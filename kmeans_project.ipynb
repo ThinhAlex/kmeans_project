{
 "cells": [
  {
   "cell_type": "code",
   "execution_count": 35,
   "id": "0fd0bada",
   "metadata": {},
   "outputs": [
    {
     "name": "stdout",
     "output_type": "stream",
     "text": [
      "Number of images:  5108\n"
     ]
    },
    {
     "ename": "AttributeError",
     "evalue": "'Image' object has no attribute 'values'",
     "output_type": "error",
     "traceback": [
      "\u001b[1;31m---------------------------------------------------------------------------\u001b[0m",
      "\u001b[1;31mAttributeError\u001b[0m                            Traceback (most recent call last)",
      "Cell \u001b[1;32mIn[35], line 31\u001b[0m\n\u001b[0;32m     29\u001b[0m shuffled_indices \u001b[38;5;241m=\u001b[39m torch\u001b[38;5;241m.\u001b[39mrandperm(\u001b[38;5;28mlen\u001b[39m(forest_data))\n\u001b[0;32m     30\u001b[0m shuffled_dataset \u001b[38;5;241m=\u001b[39m torch\u001b[38;5;241m.\u001b[39mutils\u001b[38;5;241m.\u001b[39mdata\u001b[38;5;241m.\u001b[39mSubset(forest_data, shuffled_indices)\n\u001b[1;32m---> 31\u001b[0m \u001b[38;5;28mprint\u001b[39m(\u001b[43mshuffled_dataset\u001b[49m\u001b[43m[\u001b[49m\u001b[38;5;241;43m0\u001b[39;49m\u001b[43m]\u001b[49m\u001b[43m[\u001b[49m\u001b[38;5;241;43m0\u001b[39;49m\u001b[43m]\u001b[49m\u001b[38;5;241;43m.\u001b[39;49m\u001b[43mvalues\u001b[49m)\n\u001b[0;32m     33\u001b[0m \u001b[38;5;66;03m#train_forest, val_forest, test_forest = random_split(forest_data, [train_len, val_len, test_len])\u001b[39;00m\n\u001b[0;32m     34\u001b[0m \n\u001b[0;32m     35\u001b[0m \u001b[38;5;66;03m# Loader (train, val, test)\u001b[39;00m\n\u001b[1;32m   (...)\u001b[0m\n\u001b[0;32m     40\u001b[0m \n\u001b[0;32m     41\u001b[0m \u001b[38;5;66;03m# Eval\u001b[39;00m\n",
      "\u001b[1;31mAttributeError\u001b[0m: 'Image' object has no attribute 'values'"
     ]
    }
   ],
   "source": [
    "import os\n",
    "import matplotlib.pyplot as plt\n",
    "import numpy as np\n",
    "\n",
    "import torch\n",
    "from torchvision import datasets, transforms \n",
    "import torchvision.transforms.functional as F\n",
    "from torch.utils.data.dataset import random_split\n",
    "from torch_kmeans import KMeans\n",
    "\n",
    "# Explore the dataset\n",
    "img_root = \"D:\\Machine Learning Project\\kmeans_project\\original_img\\Forest_Segmented\\images\"\n",
    "img_list = os.listdir(img_root)\n",
    "print(\"Number of images: \", len(img_list))\n",
    "\n",
    "# Process img -> Split train, val, test\n",
    "forest_data = datasets.ImageFolder(\"D:\\Machine Learning Project\\kmeans_project\\original_img\\Forest_Segmented\", transform = transforms.Compose([\n",
    "    transforms.Resize((128,128))]))\n",
    "\n",
    "train_ratio = 0.7\n",
    "test_ratio = 0.15\n",
    "val_ratio = 0.15\n",
    "\n",
    "num_data = len(forest_data)\n",
    "train_len = num_data*train_ratio\n",
    "test_len = num_data*test_ratio\n",
    "val_len = num_data - train_len - test_len\n",
    "\n",
    "shuffled_indices = torch.randperm(len(forest_data))\n",
    "shuffled_dataset = torch.utils.data.Subset(forest_data, shuffled_indices)\n",
    "print(shuffled_dataset[0][0])\n",
    "\n",
    "#train_forest, val_forest, test_forest = random_split(forest_data, [train_len, val_len, test_len])\n",
    "\n",
    "# Loader (train, val, test)\n",
    "\n",
    "# Implement the model\n",
    "\n",
    "# Train\n",
    "\n",
    "# Eval\n",
    "\n",
    " "
   ]
  },
  {
   "cell_type": "markdown",
   "id": "6bb2ecf8",
   "metadata": {},
   "source": []
  }
 ],
 "metadata": {
  "kernelspec": {
   "display_name": "Python 3 (ipykernel)",
   "language": "python",
   "name": "python3"
  },
  "language_info": {
   "codemirror_mode": {
    "name": "ipython",
    "version": 3
   },
   "file_extension": ".py",
   "mimetype": "text/x-python",
   "name": "python",
   "nbconvert_exporter": "python",
   "pygments_lexer": "ipython3",
   "version": "3.10.9"
  }
 },
 "nbformat": 4,
 "nbformat_minor": 5
}
